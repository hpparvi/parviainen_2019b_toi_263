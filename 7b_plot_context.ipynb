{
 "cells": [
  {
   "cell_type": "markdown",
   "metadata": {},
   "source": [
    "# 7. Plots\n",
    "## 7.2 TOI 263.01 in context"
   ]
  },
  {
   "cell_type": "code",
   "execution_count": 1,
   "metadata": {},
   "outputs": [
    {
     "name": "stdout",
     "output_type": "stream",
     "text": [
      "Populating the interactive namespace from numpy and matplotlib\n"
     ]
    }
   ],
   "source": [
    "%pylab inline"
   ]
  },
  {
   "cell_type": "code",
   "execution_count": 2,
   "metadata": {},
   "outputs": [],
   "source": [
    "from matplotlib.colors import LogNorm, SymLogNorm, PowerNorm, BoundaryNorm, DivergingNorm"
   ]
  },
  {
   "cell_type": "code",
   "execution_count": 3,
   "metadata": {},
   "outputs": [],
   "source": [
    "%run src/core.py\n",
    "%run src/plotting.py"
   ]
  },
  {
   "cell_type": "code",
   "execution_count": 97,
   "metadata": {},
   "outputs": [],
   "source": [
    "df = derive_qois(read_mcmc('results/toi_263_tess_m2_lco.nc'))\n",
    "ctl = pd.read_csv('exoplanet.eu_catalog.csv').dropna(subset=['radius', 'orbital_period'])"
   ]
  },
  {
   "cell_type": "code",
   "execution_count": 100,
   "metadata": {},
   "outputs": [
    {
     "data": {
      "text/html": [
       "<div>\n",
       "<style scoped>\n",
       "    .dataframe tbody tr th:only-of-type {\n",
       "        vertical-align: middle;\n",
       "    }\n",
       "\n",
       "    .dataframe tbody tr th {\n",
       "        vertical-align: top;\n",
       "    }\n",
       "\n",
       "    .dataframe thead th {\n",
       "        text-align: right;\n",
       "    }\n",
       "</style>\n",
       "<table border=\"1\" class=\"dataframe\">\n",
       "  <thead>\n",
       "    <tr style=\"text-align: right;\">\n",
       "      <th></th>\n",
       "      <th># name</th>\n",
       "      <th>planet_status</th>\n",
       "      <th>mass</th>\n",
       "      <th>mass_error_min</th>\n",
       "      <th>mass_error_max</th>\n",
       "      <th>mass_sini</th>\n",
       "      <th>mass_sini_error_min</th>\n",
       "      <th>mass_sini_error_max</th>\n",
       "      <th>radius</th>\n",
       "      <th>radius_error_min</th>\n",
       "      <th>...</th>\n",
       "      <th>star_sp_type</th>\n",
       "      <th>star_age</th>\n",
       "      <th>star_age_error_min</th>\n",
       "      <th>star_age_error_max</th>\n",
       "      <th>star_teff</th>\n",
       "      <th>star_teff_error_min</th>\n",
       "      <th>star_teff_error_max</th>\n",
       "      <th>star_detected_disc</th>\n",
       "      <th>star_magnetic_field</th>\n",
       "      <th>star_alternate_names</th>\n",
       "    </tr>\n",
       "  </thead>\n",
       "  <tbody>\n",
       "    <tr>\n",
       "      <th>33</th>\n",
       "      <td>AD 3116 b</td>\n",
       "      <td>Confirmed</td>\n",
       "      <td>54.2</td>\n",
       "      <td>4.3</td>\n",
       "      <td>4.3</td>\n",
       "      <td>NaN</td>\n",
       "      <td>NaN</td>\n",
       "      <td>NaN</td>\n",
       "      <td>1.02</td>\n",
       "      <td>0.28</td>\n",
       "      <td>...</td>\n",
       "      <td>M3.9</td>\n",
       "      <td>NaN</td>\n",
       "      <td>NaN</td>\n",
       "      <td>NaN</td>\n",
       "      <td>3200.0</td>\n",
       "      <td>200.0</td>\n",
       "      <td>200.0</td>\n",
       "      <td>NaN</td>\n",
       "      <td>NaN</td>\n",
       "      <td>2MASS J08423943+1924520, EPIC 211946007</td>\n",
       "    </tr>\n",
       "    <tr>\n",
       "      <th>3478</th>\n",
       "      <td>NLTT 41135 b</td>\n",
       "      <td>Confirmed</td>\n",
       "      <td>33.7</td>\n",
       "      <td>2.8</td>\n",
       "      <td>2.8</td>\n",
       "      <td>33.7</td>\n",
       "      <td>2.8</td>\n",
       "      <td>2.8</td>\n",
       "      <td>1.13</td>\n",
       "      <td>0.17</td>\n",
       "      <td>...</td>\n",
       "      <td>M5.1</td>\n",
       "      <td>NaN</td>\n",
       "      <td>NaN</td>\n",
       "      <td>NaN</td>\n",
       "      <td>3230.0</td>\n",
       "      <td>130.0</td>\n",
       "      <td>130.0</td>\n",
       "      <td>NaN</td>\n",
       "      <td>NaN</td>\n",
       "      <td>NaN</td>\n",
       "    </tr>\n",
       "  </tbody>\n",
       "</table>\n",
       "<p>2 rows × 98 columns</p>\n",
       "</div>"
      ],
      "text/plain": [
       "            # name planet_status  mass  mass_error_min  mass_error_max  \\\n",
       "33       AD 3116 b     Confirmed  54.2             4.3             4.3   \n",
       "3478  NLTT 41135 b     Confirmed  33.7             2.8             2.8   \n",
       "\n",
       "      mass_sini  mass_sini_error_min  mass_sini_error_max  radius  \\\n",
       "33          NaN                  NaN                  NaN    1.02   \n",
       "3478       33.7                  2.8                  2.8    1.13   \n",
       "\n",
       "      radius_error_min  ...  star_sp_type  star_age  star_age_error_min  \\\n",
       "33                0.28  ...          M3.9       NaN                 NaN   \n",
       "3478              0.17  ...          M5.1       NaN                 NaN   \n",
       "\n",
       "      star_age_error_max  star_teff  star_teff_error_min  star_teff_error_max  \\\n",
       "33                   NaN     3200.0                200.0                200.0   \n",
       "3478                 NaN     3230.0                130.0                130.0   \n",
       "\n",
       "      star_detected_disc  star_magnetic_field  \\\n",
       "33                   NaN                  NaN   \n",
       "3478                 NaN                  NaN   \n",
       "\n",
       "                         star_alternate_names  \n",
       "33    2MASS J08423943+1924520, EPIC 211946007  \n",
       "3478                                      NaN  \n",
       "\n",
       "[2 rows x 98 columns]"
      ]
     },
     "execution_count": 100,
     "metadata": {},
     "output_type": "execute_result"
    }
   ],
   "source": [
    "df_bds = pd.concat([ctl[ctl.iloc[:,0] == 'AD 3116 b'], ctl[ctl.iloc[:,0] == 'NLTT 41135 b']])\n",
    "df_bds"
   ]
  },
  {
   "cell_type": "code",
   "execution_count": 103,
   "metadata": {},
   "outputs": [],
   "source": [
    "ctl.drop(df_bds.index.values, inplace=True)"
   ]
  },
  {
   "cell_type": "markdown",
   "metadata": {},
   "source": [
    "## Brown dwarf periods and radii\n",
    "\n",
    "Brown dwarf periods and radii taken from Carmichael et al. (C19, Astron. J. 158, 2019), Persson et al. (P19, A&A 628, 2019), Jackman et al. (J19, ArXiv:1906.08219), and David et al. (D19, ApJ 872, 2019)."
   ]
  },
  {
   "cell_type": "code",
   "execution_count": 5,
   "metadata": {},
   "outputs": [],
   "source": [
    "bdh_periods = array([12.713,  1.218,   1.888, 3.192,  4.157, 2.209, 4.257, 3.060, 5.819, 21.087, # C19\n",
    "                     30.360, 11.720, 166.788, 5.894, 40.737, 5.170, 5.293, 9.779, 9.779,         # C19\n",
    "                     5.27])                                                                      # P19\n",
    "\n",
    "bdh_radii = array([0.833, 1.116, 1.384, 1.217, 0.889, 0.937, 1.01, 1.12, 1.10, 1.24, 0.998,      # C19\n",
    "                   0.807, 0.79, 1.089, 0.757, 0.874, 0.941, 6.5, 5.0,                            # C19\n",
    "                   0.83])                                                                        # P19"
   ]
  },
  {
   "cell_type": "code",
   "execution_count": 134,
   "metadata": {},
   "outputs": [],
   "source": [
    "bdc_names = ['NGTS-7Ab', 'LP 261-75b', 'NLTT 41135 b', 'AD 3116 b', 'RIK 72 b']\n",
    "bdc_periods = [16.2 / 24,               # J19\n",
    "               1.882, 2.889, 1.983,     # C19\n",
    "               97.76]                   # D19\n",
    "bdc_radii = [1.38,                      # J19\n",
    "             0.898, 1.13, 1.02,         # C19\n",
    "             3.10]                      # D19\n",
    "\n",
    "sid = argsort(bdc_periods)\n",
    "bdc_names = array(bdc_names)[sid]\n",
    "bdc_periods = array(bdc_periods)[sid]\n",
    "bdc_radii = array(bdc_radii)[sid]"
   ]
  },
  {
   "cell_type": "code",
   "execution_count": 135,
   "metadata": {
    "scrolled": false
   },
   "outputs": [],
   "source": [
    "sp_clump = ctl[mcool & (ctl['radius'] > 0.75) & (ctl['orbital_period'] < 10)]['# name, orbital_period, radius'.split(', ')]\n",
    "sp_clump.columns = 'name period radius'.split()\n",
    "sp_clump = sp_clump.reset_index().drop('index', 1)\n",
    "sp_clump.drop(0, inplace=True)\n",
    "sp_clump.sort_values('period', inplace=True)\n",
    "sp_clump = sp_clump.reset_index().drop('index', 1)"
   ]
  },
  {
   "cell_type": "code",
   "execution_count": 136,
   "metadata": {},
   "outputs": [
    {
     "name": "stdout",
     "output_type": "stream",
     "text": [
      "1 Kepler-45 b 2.4552389999999997\n",
      "2 NGTS-1 b 2.647298\n",
      "3 HATS-6 b 3.3252725\n",
      "4 HATS-71A b 3.7955212999999994\n",
      "5 GJ 674 b 4.6944\n",
      "['LP 261-75b' 'AD 3116 b' 'NLTT 41135 b' 'RIK 72 b']\n"
     ]
    }
   ],
   "source": [
    "for c,d in sp_clump.iterrows():\n",
    "    print(c+1, d.iloc[0], d.period)\n",
    "    \n",
    "print(bdc_names[1:])"
   ]
  },
  {
   "cell_type": "code",
   "execution_count": 146,
   "metadata": {},
   "outputs": [
    {
     "data": {
      "image/png": "[encoded data removed]",
      "text/plain": [
       "<Figure size 510.236x249.449 with 1 Axes>"
      ]
     },
     "metadata": {},
     "output_type": "display_data"
    }
   ],
   "source": [
    "pes = percentile(df.r_true, [50, 16, 84, 0.5, 99.5])\n",
    "mcool = ctl.star_teff <= 4000\n",
    "\n",
    "sb.set_style('ticks')\n",
    "with sb.plotting_context('paper'): #, rc=rc_paper):\n",
    "    fig, ax = subplots(figsize=(AAPGW, AAOCW))#, constrained_layout=True)\n",
    "    \n",
    "    # Planets orbiting \"hot\" hosts stars\n",
    "    # ----------------------------------\n",
    "    hexbin(ctl.orbital_period[~mcool], ctl.radius[~mcool], gridsize=(37,10), xscale='log', \n",
    "           extent=(log10(0.3), log10(180), 0, 2), mincnt=1, cmap=cm.Blues, norm=PowerNorm(0.5, 1, 200))\n",
    "    \n",
    "    # Planets orbiting cool hosts stars\n",
    "    # ---------------------------------\n",
    "    ax.semilogx(ctl.orbital_period[mcool], ctl.radius[mcool], 'w*', markeredgewidth=2, markeredgecolor=c_bo, ms=6)\n",
    "    ax.semilogx(ctl.orbital_period[mcool], ctl.radius[mcool], 'w*', markeredgewidth=0, ms=5)\n",
    "    \n",
    "    # Brown dwarfs orbiting \"hot\" host stars\n",
    "    # --------------------------------------\n",
    "    ax.semilogx(bdh_periods, bdh_radii, 'wo', markeredgecolor=c_ob, ms=6, markeredgewidth=2)\n",
    "    ax.semilogx(bdh_periods, bdh_radii, 'wo', markeredgecolor='w', ms=4, markeredgewidth=0)\n",
    "        \n",
    "    # Brown dwarfs orbiting cool host stars\n",
    "    # -------------------------------------\n",
    "    ax.semilogx(bdc_periods, bdc_radii, 'wo', ms=7, markeredgecolor='orangered', markeredgewidth=2)\n",
    "\n",
    "    # NGTS-7Ab\n",
    "    ax.annotate('NGTS-7Ab', (bdc_periods[0], bdc_radii[0]), (5.5, 5.5), textcoords='offset points', size='small')\n",
    "    \n",
    "    # CVSO 30 b\n",
    "    ax.annotate('CVSO 30b', (0.45, 1.91), (5.5, 5.5), textcoords='offset points', size='small')\n",
    "    \n",
    "    for i,d in sp_clump.iterrows():\n",
    "        ax.annotate(i+1, (d.period, d.radius), (2., 2.), textcoords='offset points', size='small')\n",
    "    \n",
    "    for i,p,k in zip('I II III IV'.split(), bdc_periods[1:], bdc_radii[1:]):\n",
    "        ax.annotate(i, (p, k), (-6, 0), textcoords='offset points', size='small', ha='right', va='center', zorder=100)\n",
    "\n",
    "    # TOI 263\n",
    "    # -------\n",
    "    ax.plot(df.p.mean(), pes[0], 'w*', ms=12, markeredgecolor='k', markeredgewidth=1)\n",
    "    ax.bar(df.p.mean(), pes[4]-pes[3], 0.06, pes[3], alpha=0.2, fc='orangered')\n",
    "    ax.bar(df.p.mean(), pes[2]-pes[1], 0.06, pes[1], alpha=1.0, fc='orangered')\n",
    "\n",
    "    setp(ax, ylim=(0,2), xlim=(0.3, 200), ylabel='Radius [R$_\\mathrm{Jup}$]', xlabel='Period [d]',\n",
    "        xticks=(0.3, 1, 10, 100, 200), xticklabels=(0.3, 1, 10, 100, 200))\n",
    "    sb.despine(fig, offset=8)\n",
    "    fig.tight_layout()\n",
    "    fig.subplots_adjust(left=0.1, top=0.97, bottom=0.16)\n",
    "    fig.savefig('plots/toi_263_in_context.pdf')"
   ]
  },
  {
   "cell_type": "markdown",
   "metadata": {},
   "source": [
    "---\n",
    "\n",
    "\n",
    "<center> © 2019 Hannu Parviainen </center>"
   ]
  }
 ],
 "metadata": {
  "kernelspec": {
   "display_name": "Python 3",
   "language": "python",
   "name": "python3"
  },
  "language_info": {
   "codemirror_mode": {
    "name": "ipython",
    "version": 3
   },
   "file_extension": ".py",
   "mimetype": "text/x-python",
   "name": "python",
   "nbconvert_exporter": "python",
   "pygments_lexer": "ipython3",
   "version": "3.7.5"
  }
 },
 "nbformat": 4,
 "nbformat_minor": 2
}
